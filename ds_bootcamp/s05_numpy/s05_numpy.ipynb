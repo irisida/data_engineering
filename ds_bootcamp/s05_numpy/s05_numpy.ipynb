{
 "cells": [
  {
   "cell_type": "markdown",
   "metadata": {},
   "source": [
    "![](https://miro.medium.com/max/875/1*cyXCE-JcBelTyrK-58w6_Q.png)"
   ]
  },
  {
   "cell_type": "markdown",
   "metadata": {},
   "source": [
    "# Introduction\n",
    "\n",
    "#### Q: What is numpy?\n",
    "A: A linear algebra library for Python. Almost all of the libraries in the PyData ecosystem rely on numpy as their base, or building blocks. It is actually written in C with bindings to python and is therefore incredibly fast by comparison to coding and optimizing similar functions in python alone. This is why it's a critical package for Data sciences in the python realm. \n",
    "\n",
    "#### Q: What are numpy arrays?\n",
    "A: Numpy arrays are the main way we will use the numpy library in the context of this tutorial. They come in two flavours:\n",
    "- vectors - strictly 1 dimensional arrays\n",
    "- matrices - 2 dimensional and beyond. Although note that a matrix may still one row or one column. \n"
   ]
  },
  {
   "cell_type": "markdown",
   "metadata": {},
   "source": [
    "# Numpy Arrays"
   ]
  },
  {
   "cell_type": "code",
   "execution_count": 1,
   "metadata": {},
   "outputs": [
    {
     "name": "stdout",
     "output_type": "stream",
     "text": [
      "The history saving thread hit an unexpected error (DatabaseError('database disk image is malformed')).History will not be written to the database.\n"
     ]
    }
   ],
   "source": [
    "import numpy as np"
   ]
  },
  {
   "cell_type": "markdown",
   "metadata": {},
   "source": [
    "### Casting python objects to numpy arrays"
   ]
  },
  {
   "cell_type": "code",
   "execution_count": 2,
   "metadata": {},
   "outputs": [
    {
     "name": "stdout",
     "output_type": "stream",
     "text": [
      "<class 'list'>\n"
     ]
    }
   ],
   "source": [
    "# create a standard numpy list \n",
    "my_list = [1,2,3,4,5]\n",
    "print(type(my_list))"
   ]
  },
  {
   "cell_type": "code",
   "execution_count": 3,
   "metadata": {},
   "outputs": [
    {
     "name": "stdout",
     "output_type": "stream",
     "text": [
      "<class 'numpy.ndarray'>\n"
     ]
    }
   ],
   "source": [
    "# cast the list object to a numpy array type\n",
    "arr = np.array(my_list)\n",
    "print(type(arr))"
   ]
  },
  {
   "cell_type": "code",
   "execution_count": 4,
   "metadata": {},
   "outputs": [
    {
     "data": {
      "text/plain": [
       "array([[1, 2, 3],\n",
       "       [4, 5, 6],\n",
       "       [7, 8, 9]])"
      ]
     },
     "execution_count": 4,
     "metadata": {},
     "output_type": "execute_result"
    }
   ],
   "source": [
    "# create a list of lists \n",
    "mat = [[1,2,3],[4,5,6],[7,8,9]]\n",
    "\n",
    "# cast to a numpy array, creating a 2d array\n",
    "arr = np.array(mat)\n",
    "arr"
   ]
  },
  {
   "cell_type": "markdown",
   "metadata": {},
   "source": [
    "### Using numpy built-in methods for array generation"
   ]
  },
  {
   "cell_type": "code",
   "execution_count": 5,
   "metadata": {},
   "outputs": [
    {
     "data": {
      "text/plain": [
       "array([0, 1, 2, 3, 4, 5, 6, 7, 8, 9])"
      ]
     },
     "execution_count": 5,
     "metadata": {},
     "output_type": "execute_result"
    }
   ],
   "source": [
    "# similar to python built-in range function.\n",
    "# also uses similar inclusive/exclusive rules\n",
    "# for the start, stop values. \n",
    "np.arange(0,10)"
   ]
  },
  {
   "cell_type": "markdown",
   "metadata": {},
   "source": [
    "The numpy arange function can also take a 3rd parameter which is the step parameter and that dictates how the arange function derives the next value in its sequence. "
   ]
  },
  {
   "cell_type": "code",
   "execution_count": 6,
   "metadata": {},
   "outputs": [
    {
     "data": {
      "text/plain": [
       "array([0, 2, 4, 6, 8])"
      ]
     },
     "execution_count": 6,
     "metadata": {},
     "output_type": "execute_result"
    }
   ],
   "source": [
    "# get all even numbers between 0-10\n",
    "evens = np.arange(0,10,2)\n",
    "evens"
   ]
  },
  {
   "cell_type": "code",
   "execution_count": 7,
   "metadata": {},
   "outputs": [
    {
     "data": {
      "text/plain": [
       "array([1, 3, 5, 7, 9])"
      ]
     },
     "execution_count": 7,
     "metadata": {},
     "output_type": "execute_result"
    }
   ],
   "source": [
    "# get all the odds between 1,10\n",
    "odds = np.arange(1,10,2)\n",
    "odds"
   ]
  },
  {
   "cell_type": "markdown",
   "metadata": {},
   "source": [
    "We can also use othermethods of array generation."
   ]
  },
  {
   "cell_type": "code",
   "execution_count": 14,
   "metadata": {},
   "outputs": [
    {
     "name": "stdout",
     "output_type": "stream",
     "text": [
      "vector \n",
      " <class 'numpy.ndarray'> \n",
      " [0. 0. 0. 0. 0.] \n",
      "\n",
      "multidimensional \n",
      " <class 'numpy.ndarray'> \n",
      " [[0. 0. 0. 0. 0.]\n",
      " [0. 0. 0. 0. 0.]\n",
      " [0. 0. 0. 0. 0.]\n",
      " [0. 0. 0. 0. 0.]\n",
      " [0. 0. 0. 0. 0.]]\n"
     ]
    }
   ],
   "source": [
    "# use numpy to generate an array of zeros.\n",
    "\n",
    "# single digit creates a vector\n",
    "arr = np.zeros(5)\n",
    "print(\"vector\", '\\n', type(arr), '\\n', arr, '\\n')\n",
    "\n",
    "# create a multi-dimensinal array\n",
    "# note: the tuple is taken as the form\n",
    "# of rows, cloumns\n",
    "arr = np.zeros((5,5))\n",
    "print(\"multidimensional\", '\\n', type(arr), '\\n', arr)"
   ]
  },
  {
   "cell_type": "code",
   "execution_count": 15,
   "metadata": {},
   "outputs": [
    {
     "data": {
      "text/plain": [
       "array([[1., 1., 1., 1., 1.],\n",
       "       [1., 1., 1., 1., 1.],\n",
       "       [1., 1., 1., 1., 1.]])"
      ]
     },
     "execution_count": 15,
     "metadata": {},
     "output_type": "execute_result"
    }
   ],
   "source": [
    "np.ones((3,5))"
   ]
  },
  {
   "cell_type": "markdown",
   "metadata": {},
   "source": [
    "Another possible array generation tool is `linspace`. This allows the programmer to create an evenly distributed amount of elements in an array between the value of `start` and `stop` with a 3rd parameter for number of points between."
   ]
  },
  {
   "cell_type": "code",
   "execution_count": 16,
   "metadata": {},
   "outputs": [
    {
     "data": {
      "text/plain": [
       "array([ 5.        ,  5.26315789,  5.52631579,  5.78947368,  6.05263158,\n",
       "        6.31578947,  6.57894737,  6.84210526,  7.10526316,  7.36842105,\n",
       "        7.63157895,  7.89473684,  8.15789474,  8.42105263,  8.68421053,\n",
       "        8.94736842,  9.21052632,  9.47368421,  9.73684211, 10.        ])"
      ]
     },
     "execution_count": 16,
     "metadata": {},
     "output_type": "execute_result"
    }
   ],
   "source": [
    "arr = np.linspace(5,10, 20)\n",
    "arr"
   ]
  },
  {
   "cell_type": "markdown",
   "metadata": {},
   "source": [
    "We can also create a identity matrix which is a linear algebra square matrix with a fox ed diagonal of ones, in a structure of zeros. "
   ]
  },
  {
   "cell_type": "code",
   "execution_count": 17,
   "metadata": {},
   "outputs": [
    {
     "data": {
      "text/plain": [
       "array([[1., 0., 0., 0., 0.],\n",
       "       [0., 1., 0., 0., 0.],\n",
       "       [0., 0., 1., 0., 0.],\n",
       "       [0., 0., 0., 1., 0.],\n",
       "       [0., 0., 0., 0., 1.]])"
      ]
     },
     "execution_count": 17,
     "metadata": {},
     "output_type": "execute_result"
    }
   ],
   "source": [
    "arr = np.eye(5)\n",
    "arr"
   ]
  },
  {
   "cell_type": "markdown",
   "metadata": {},
   "source": [
    "### np.random methods"
   ]
  },
  {
   "cell_type": "code",
   "execution_count": 18,
   "metadata": {},
   "outputs": [
    {
     "data": {
      "text/plain": [
       "array([[0.11981978, 0.86894861, 0.76954324, 0.19842932, 0.96308298],\n",
       "       [0.51635323, 0.77324231, 0.61682914, 0.04742738, 0.9466581 ],\n",
       "       [0.81606513, 0.56100625, 0.59874398, 0.63614977, 0.76867576]])"
      ]
     },
     "execution_count": 18,
     "metadata": {},
     "output_type": "execute_result"
    }
   ],
   "source": [
    "# note this struct does not require wrapping the \n",
    "# values as a tuple. \n",
    "np.random.rand(3,5)"
   ]
  },
  {
   "cell_type": "code",
   "execution_count": 20,
   "metadata": {},
   "outputs": [
    {
     "data": {
      "text/plain": [
       "array([[ 0.55376005, -0.9703    , -0.28753457,  0.81665987,  0.14824513],\n",
       "       [ 0.1486342 , -0.85716824, -0.50412266, -0.85944944, -0.17401128],\n",
       "       [-0.81195704, -0.82018481,  0.46985104, -0.52101469, -0.8436827 ],\n",
       "       [ 0.7520208 ,  0.15908852, -0.83722555, -0.07817761,  0.16397485],\n",
       "       [ 0.54840988, -0.31715268, -1.02201918,  0.91979636,  0.50754323]])"
      ]
     },
     "execution_count": 20,
     "metadata": {},
     "output_type": "execute_result"
    }
   ],
   "source": [
    "# where we want to wrap around a normal distribution\n",
    "np.random.randn(5,5)"
   ]
  },
  {
   "cell_type": "code",
   "execution_count": 21,
   "metadata": {},
   "outputs": [
    {
     "data": {
      "text/plain": [
       "8"
      ]
     },
     "execution_count": 21,
     "metadata": {},
     "output_type": "execute_result"
    }
   ],
   "source": [
    "# random int between a start and stop\n",
    "# typical inclusive/exclusive ruling\n",
    "# if only a single parameter is passed it\n",
    "# is assumed as the stop and an implicit\n",
    "# zero is taken as a start. \n",
    "np.random.randint(20)"
   ]
  },
  {
   "cell_type": "code",
   "execution_count": 23,
   "metadata": {},
   "outputs": [
    {
     "data": {
      "text/plain": [
       "array([19, 40, 29, 42, 13])"
      ]
     },
     "execution_count": 23,
     "metadata": {},
     "output_type": "execute_result"
    }
   ],
   "source": [
    "arr = np.random.randint(1,51, 5)\n",
    "arr"
   ]
  },
  {
   "cell_type": "markdown",
   "metadata": {},
   "source": [
    "### Reshaping\n",
    "\n",
    "Note to use the .reshape() method without error the structure you are providing as the base must be able to fully consume the new shape. eg if you have 30 items you can successfully have (2,15),(3,10)(5,6). You can not use a larger shape with part of the shape left blank or None. The easy check being does you intended shape multiplied  equal the number of elements? If not you _will_ have an error. "
   ]
  },
  {
   "cell_type": "code",
   "execution_count": 30,
   "metadata": {},
   "outputs": [
    {
     "data": {
      "text/plain": [
       "array([ 0,  1,  2,  3,  4,  5,  6,  7,  8,  9, 10, 11, 12, 13, 14, 15, 16,\n",
       "       17, 18, 19, 20, 21, 22, 23, 24])"
      ]
     },
     "execution_count": 30,
     "metadata": {},
     "output_type": "execute_result"
    }
   ],
   "source": [
    "arr = np.arange(25)\n",
    "arr"
   ]
  },
  {
   "cell_type": "code",
   "execution_count": 38,
   "metadata": {},
   "outputs": [
    {
     "name": "stdout",
     "output_type": "stream",
     "text": [
      "original shape: (25,)\n",
      "rehsape: (5, 5)\n"
     ]
    }
   ],
   "source": [
    "arr.reshape(5,5)\n",
    "\n",
    "print(f\"original shape: {arr.shape}\")\n",
    "\n",
    "newarr = arr.reshape(5,5)\n",
    "print(f\"rehsape: {newarr.shape}\")"
   ]
  },
  {
   "cell_type": "markdown",
   "metadata": {},
   "source": [
    "### Max, min, argument indexes\n",
    "\n",
    "You can easily find the max or min of an array with the `max` and `min` methods. If you want to find the index of these values you can use the `argmax` & `argmin`."
   ]
  },
  {
   "cell_type": "code",
   "execution_count": 39,
   "metadata": {},
   "outputs": [
    {
     "name": "stdout",
     "output_type": "stream",
     "text": [
      "max: 24 argmax: 24\n",
      "min: 0 argmin: 0\n"
     ]
    }
   ],
   "source": [
    "print(f\"max: {arr.max()} argmax: {arr.argmax()}\")\n",
    "print(f\"min: {arr.min()} argmin: {arr.argmin()}\")\n"
   ]
  },
  {
   "cell_type": "markdown",
   "metadata": {},
   "source": [
    "### Indexing & selection"
   ]
  },
  {
   "cell_type": "code",
   "execution_count": 41,
   "metadata": {},
   "outputs": [
    {
     "data": {
      "text/plain": [
       "array([ 0,  1,  2,  3,  4,  5,  6,  7,  8,  9, 10])"
      ]
     },
     "execution_count": 41,
     "metadata": {},
     "output_type": "execute_result"
    }
   ],
   "source": [
    "arr = np.arange(0,11)\n",
    "arr"
   ]
  },
  {
   "cell_type": "code",
   "execution_count": 43,
   "metadata": {},
   "outputs": [
    {
     "name": "stdout",
     "output_type": "stream",
     "text": [
      "0\t0\n",
      "1\t1\n",
      "2\t2\n",
      "3\t3\n",
      "4\t4\n",
      "5\t5\n",
      "6\t6\n",
      "7\t7\n",
      "8\t8\n",
      "9\t9\n",
      "10\t10\n"
     ]
    }
   ],
   "source": [
    "# to understand slicing we need to understand the indexing of list items\n",
    "# list indexes start at zero.\n",
    "# list index of the last element will be the length -1 (because of starting\n",
    "# at zero of course.)\n",
    "\n",
    "#our current arr\n",
    "for idx, item in enumerate(arr):\n",
    "    print(f\"{idx}\\t{item}\")"
   ]
  },
  {
   "cell_type": "code",
   "execution_count": 44,
   "metadata": {},
   "outputs": [
    {
     "data": {
      "text/plain": [
       "array([10, 11, 12, 13, 14, 15, 16, 17, 18, 19, 20])"
      ]
     },
     "execution_count": 44,
     "metadata": {},
     "output_type": "execute_result"
    }
   ],
   "source": [
    "arr = np.arange(10,21)\n",
    "arr"
   ]
  },
  {
   "cell_type": "code",
   "execution_count": 45,
   "metadata": {},
   "outputs": [
    {
     "name": "stdout",
     "output_type": "stream",
     "text": [
      "0\t10\n",
      "1\t11\n",
      "2\t12\n",
      "3\t13\n",
      "4\t14\n",
      "5\t15\n",
      "6\t16\n",
      "7\t17\n",
      "8\t18\n",
      "9\t19\n",
      "10\t20\n"
     ]
    }
   ],
   "source": [
    "#our current arr\n",
    "for idx, item in enumerate(arr):\n",
    "    print(f\"{idx}\\t{item}\")"
   ]
  },
  {
   "cell_type": "markdown",
   "metadata": {},
   "source": [
    "numpy uses the same slicing capabilities as python itself, the same inclusive, exclusive rules."
   ]
  },
  {
   "cell_type": "code",
   "execution_count": 46,
   "metadata": {},
   "outputs": [
    {
     "data": {
      "text/plain": [
       "array([12, 13, 14])"
      ]
     },
     "execution_count": 46,
     "metadata": {},
     "output_type": "execute_result"
    }
   ],
   "source": [
    "arr[2:5]"
   ]
  },
  {
   "cell_type": "markdown",
   "metadata": {},
   "source": [
    "### Multi-dimensional array slicing \n",
    "\n",
    "Slicing is where we take a partial of an array in numpy, or a list in python itself. We are slicing off a part of the original. It uses the typical python indexing, ie, starts at zero. It also uses the typical Python rules for inclusive/exclusive rules. ie, we should note that the stop index is **not included**, the start index **is included**.  "
   ]
  },
  {
   "cell_type": "code",
   "execution_count": 47,
   "metadata": {},
   "outputs": [
    {
     "data": {
      "text/plain": [
       "array([[ 1,  2,  3,  4,  5],\n",
       "       [ 6,  7,  8,  9, 10],\n",
       "       [11, 12, 13, 14, 15],\n",
       "       [16, 17, 18, 19, 20],\n",
       "       [21, 22, 23, 24, 25]])"
      ]
     },
     "execution_count": 47,
     "metadata": {},
     "output_type": "execute_result"
    }
   ],
   "source": [
    "# declare a multi-dimensional array\n",
    "arr = np.array([[1,2,3,4,5],[6,7,8,9,10],[11,12,13,14,15],[16,17,18,19,20],[21,22,23,24,25]])\n",
    "arr"
   ]
  },
  {
   "cell_type": "code",
   "execution_count": 64,
   "metadata": {},
   "outputs": [
    {
     "data": {
      "text/plain": [
       "array([[ 1,  2,  3],\n",
       "       [ 6,  7,  8],\n",
       "       [11, 12, 13]])"
      ]
     },
     "execution_count": 64,
     "metadata": {},
     "output_type": "execute_result"
    }
   ],
   "source": [
    "# we want to take a partial that has a blank start index. (left side of the colon)\n",
    "# therefore an implicit zero, up until bit not including index 3. So we can expect:\n",
    "# index 0 : 1\n",
    "# index 1 : 2\n",
    "# index 2 : 3\n",
    "# as the first row, but we see that we are taking from row zero up until but not including\n",
    "# row index 3. \n",
    "arr[:3,:3]"
   ]
  },
  {
   "cell_type": "markdown",
   "metadata": {},
   "source": [
    "This means we are taking the partial as: \n",
    "- row 0, index 0 (1), index 1 (2), index 2 (3)\n",
    "- row 1, index 0 (6), index 1 (7), index 2 (8)\n",
    "- row 2, index 0 (11), index 1 (12), index 2 (13)"
   ]
  },
  {
   "cell_type": "code",
   "execution_count": 52,
   "metadata": {},
   "outputs": [
    {
     "data": {
      "text/plain": [
       "array([[19, 20],\n",
       "       [24, 25]])"
      ]
     },
     "execution_count": 52,
     "metadata": {},
     "output_type": "execute_result"
    }
   ],
   "source": [
    "arr[3:,3:]"
   ]
  },
  {
   "cell_type": "code",
   "execution_count": 53,
   "metadata": {},
   "outputs": [],
   "source": [
    "bool_array = arr > 5"
   ]
  },
  {
   "cell_type": "code",
   "execution_count": 55,
   "metadata": {},
   "outputs": [
    {
     "data": {
      "text/plain": [
       "array([ 6,  7,  8,  9, 10, 11, 12, 13, 14, 15, 16, 17, 18, 19, 20, 21, 22,\n",
       "       23, 24, 25])"
      ]
     },
     "execution_count": 55,
     "metadata": {},
     "output_type": "execute_result"
    }
   ],
   "source": [
    "arr[arr>5]"
   ]
  },
  {
   "cell_type": "code",
   "execution_count": 56,
   "metadata": {},
   "outputs": [
    {
     "data": {
      "text/plain": [
       "array([1, 2])"
      ]
     },
     "execution_count": 56,
     "metadata": {},
     "output_type": "execute_result"
    }
   ],
   "source": [
    "arr[arr<3]"
   ]
  },
  {
   "cell_type": "code",
   "execution_count": 58,
   "metadata": {},
   "outputs": [
    {
     "data": {
      "text/plain": [
       "array([1, 2, 3, 4, 5, 6, 7, 8, 9])"
      ]
     },
     "execution_count": 58,
     "metadata": {},
     "output_type": "execute_result"
    }
   ],
   "source": [
    "arr[arr < 10]"
   ]
  },
  {
   "cell_type": "code",
   "execution_count": 65,
   "metadata": {},
   "outputs": [
    {
     "data": {
      "text/plain": [
       "array([[ 0,  1,  2,  3,  4,  5,  6,  7,  8,  9],\n",
       "       [10, 11, 12, 13, 14, 15, 16, 17, 18, 19],\n",
       "       [20, 21, 22, 23, 24, 25, 26, 27, 28, 29],\n",
       "       [30, 31, 32, 33, 34, 35, 36, 37, 38, 39],\n",
       "       [40, 41, 42, 43, 44, 45, 46, 47, 48, 49]])"
      ]
     },
     "execution_count": 65,
     "metadata": {},
     "output_type": "execute_result"
    }
   ],
   "source": [
    "# nifty one liner for creating a specific shape\n",
    "# of values. \n",
    "arr_2d = np.arange(50).reshape(5,10)\n",
    "arr_2d"
   ]
  },
  {
   "cell_type": "code",
   "execution_count": 63,
   "metadata": {},
   "outputs": [
    {
     "data": {
      "text/plain": [
       "array([[ 0,  1],\n",
       "       [10, 11],\n",
       "       [20, 21]])"
      ]
     },
     "execution_count": 63,
     "metadata": {},
     "output_type": "execute_result"
    }
   ],
   "source": [
    "# show the same slicing strategy\n",
    "arr_2d[:3,:2]"
   ]
  },
  {
   "cell_type": "markdown",
   "metadata": {},
   "source": [
    "### Numpy Operations"
   ]
  },
  {
   "cell_type": "code",
   "execution_count": 73,
   "metadata": {},
   "outputs": [
    {
     "name": "stdout",
     "output_type": "stream",
     "text": [
      "arr1:0 + arr2:10 = 10\n",
      "arr1:1 + arr2:11 = 12\n",
      "arr1:2 + arr2:12 = 14\n",
      "arr1:3 + arr2:13 = 16\n",
      "arr1:4 + arr2:14 = 18\n",
      "arr1:5 + arr2:15 = 20\n",
      "arr1:6 + arr2:16 = 22\n",
      "arr1:7 + arr2:17 = 24\n",
      "arr1:8 + arr2:18 = 26\n",
      "arr1:9 + arr2:19 = 28\n"
     ]
    }
   ],
   "source": [
    "# array addition.\n",
    "\n",
    "arr1 = np.arange(10)\n",
    "arr2 = np.arange(10,20)\n",
    "arr3 = arr1 + arr2\n",
    "\n",
    "for i in range(len(arr3)):\n",
    "    print(f\"arr1:{arr1[i]} + arr2:{arr2[i]} = {arr1[i] + arr2[i]}\")"
   ]
  },
  {
   "cell_type": "code",
   "execution_count": 74,
   "metadata": {},
   "outputs": [
    {
     "data": {
      "text/plain": [
       "array([ 0,  1,  4,  9, 16, 25, 36, 49, 64, 81])"
      ]
     },
     "execution_count": 74,
     "metadata": {},
     "output_type": "execute_result"
    }
   ],
   "source": [
    "# Multiplication example\n",
    "arr = np.arange(10)\n",
    "arr = arr * arr\n",
    "arr"
   ]
  },
  {
   "cell_type": "code",
   "execution_count": 75,
   "metadata": {},
   "outputs": [
    {
     "data": {
      "text/plain": [
       "array([100,  99,  98,  97,  96,  95,  94,  93,  92,  91])"
      ]
     },
     "execution_count": 75,
     "metadata": {},
     "output_type": "execute_result"
    }
   ],
   "source": [
    "arr = np.arange(100,90, -1)\n",
    "arr"
   ]
  },
  {
   "cell_type": "code",
   "execution_count": 76,
   "metadata": {},
   "outputs": [
    {
     "data": {
      "text/plain": [
       "array([10. ,  9.9,  9.8,  9.7,  9.6,  9.5,  9.4,  9.3,  9.2,  9.1])"
      ]
     },
     "execution_count": 76,
     "metadata": {},
     "output_type": "execute_result"
    }
   ],
   "source": [
    "arr = arr / 10\n",
    "arr"
   ]
  },
  {
   "cell_type": "code",
   "execution_count": null,
   "metadata": {},
   "outputs": [],
   "source": []
  }
 ],
 "metadata": {
  "kernelspec": {
   "display_name": "mlkit",
   "language": "python",
   "name": "mlkit"
  },
  "language_info": {
   "codemirror_mode": {
    "name": "ipython",
    "version": 3
   },
   "file_extension": ".py",
   "mimetype": "text/x-python",
   "name": "python",
   "nbconvert_exporter": "python",
   "pygments_lexer": "ipython3",
   "version": "3.7.9"
  }
 },
 "nbformat": 4,
 "nbformat_minor": 4
}
